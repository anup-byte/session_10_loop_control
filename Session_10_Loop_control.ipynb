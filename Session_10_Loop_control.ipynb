{
 "cells": [
  {
   "cell_type": "code",
   "execution_count": null,
   "id": "62a73b51",
   "metadata": {},
   "outputs": [],
   "source": [
    "# Break statement is used for premature termination of a loop"
   ]
  },
  {
   "cell_type": "code",
   "execution_count": 24,
   "id": "b895febf",
   "metadata": {},
   "outputs": [
    {
     "name": "stdout",
     "output_type": "stream",
     "text": [
      "1\n",
      "2\n",
      "3\n",
      "4\n",
      "5\n",
      "6\n",
      "7\n",
      "8\n",
      "9\n"
     ]
    }
   ],
   "source": [
    "x = 1\n",
    "while x < 10:\n",
    "    print(x)\n",
    "    x = x + 1"
   ]
  },
  {
   "cell_type": "code",
   "execution_count": 25,
   "id": "27fb5b07",
   "metadata": {},
   "outputs": [
    {
     "name": "stdout",
     "output_type": "stream",
     "text": [
      "1\n",
      "2\n",
      "3\n",
      "4\n",
      "5\n",
      "6\n",
      "7\n"
     ]
    }
   ],
   "source": [
    "x = 1\n",
    "while x < 10:\n",
    "    print(x)\n",
    "    if x == 7:\n",
    "        break\n",
    "    x = x + 1"
   ]
  },
  {
   "cell_type": "code",
   "execution_count": 1,
   "id": "eb5aeb66",
   "metadata": {},
   "outputs": [
    {
     "name": "stdout",
     "output_type": "stream",
     "text": [
      "Mango\n",
      "Cherry\n",
      "Apple\n",
      "Banana\n"
     ]
    }
   ],
   "source": [
    "fruit_list = [\"Mango\", \"Cherry\", \"Apple\", \"Papaya\", \"Banana\"]\n",
    "for fruits in fruit_list:\n",
    "    if fruits == \"Papaya\":\n",
    "        continue\n",
    "    print(fruits)"
   ]
  },
  {
   "cell_type": "code",
   "execution_count": null,
   "id": "eda2df13",
   "metadata": {},
   "outputs": [],
   "source": [
    "x = 0\n",
    "while x < 10:\n",
    "    x = x + 1\n",
    "    if x == 7:\n",
    "        continue\n",
    "    print(x)    "
   ]
  },
  {
   "cell_type": "code",
   "execution_count": null,
   "id": "ec1f7fc1",
   "metadata": {},
   "outputs": [],
   "source": [
    "x = 1\n",
    "while x < 10:\n",
    "    print(x)\n",
    "    x = x + 1"
   ]
  },
  {
   "cell_type": "code",
   "execution_count": null,
   "id": "006e762f",
   "metadata": {},
   "outputs": [],
   "source": [
    "x = 1\n",
    "while x < 10:\n",
    "    print(x)\n",
    "    if x == 7:\n",
    "        continue\n",
    "    x = x + 1"
   ]
  },
  {
   "cell_type": "code",
   "execution_count": 1,
   "id": "7d0935b6",
   "metadata": {},
   "outputs": [
    {
     "name": "stdout",
     "output_type": "stream",
     "text": [
      "Mango\n",
      "Cherry\n",
      "Apple\n",
      "Banana\n"
     ]
    }
   ],
   "source": [
    "fruit_list = [\"Mango\", \"Cherry\", \"Apple\", \"Papaya\", \"Banana\"]\n",
    "for fruits in fruit_list:\n",
    "    if fruits == \"Papaya\":\n",
    "        continue\n",
    "    print(fruits)"
   ]
  },
  {
   "cell_type": "code",
   "execution_count": null,
   "id": "908f8b25",
   "metadata": {},
   "outputs": [],
   "source": [
    "# Pass is also considered as null operation.It tell that do nothing and return nothing/None"
   ]
  },
  {
   "cell_type": "code",
   "execution_count": 2,
   "id": "8f3c4dcf",
   "metadata": {},
   "outputs": [],
   "source": [
    "for i in [10, 100, 200]:\n",
    "    pass"
   ]
  },
  {
   "cell_type": "code",
   "execution_count": 3,
   "id": "8644d3a9",
   "metadata": {},
   "outputs": [
    {
     "ename": "SyntaxError",
     "evalue": "unexpected EOF while parsing (4155345654.py, line 2)",
     "output_type": "error",
     "traceback": [
      "\u001b[0;36m  Cell \u001b[0;32mIn[3], line 2\u001b[0;36m\u001b[0m\n\u001b[0;31m    \u001b[0m\n\u001b[0m    ^\u001b[0m\n\u001b[0;31mSyntaxError\u001b[0m\u001b[0;31m:\u001b[0m unexpected EOF while parsing\n"
     ]
    }
   ],
   "source": [
    "for i in range(10):\n",
    "    "
   ]
  },
  {
   "cell_type": "code",
   "execution_count": 4,
   "id": "1e1b84b9",
   "metadata": {},
   "outputs": [
    {
     "name": "stdout",
     "output_type": "stream",
     "text": [
      "Welcome to\n",
      "AI ki Paathshala\n",
      "learn python\n"
     ]
    }
   ],
   "source": [
    "print(\"Welcome to\")\n",
    "print(\"AI ki Paathshala\")\n",
    "print(\"learn python\")"
   ]
  },
  {
   "cell_type": "code",
   "execution_count": 5,
   "id": "6bfdfa5b",
   "metadata": {},
   "outputs": [
    {
     "name": "stdout",
     "output_type": "stream",
     "text": [
      "Welcome to AI ki Paathshala learn python "
     ]
    }
   ],
   "source": [
    "print(\"Welcome to\", end = ' ')\n",
    "print(\"AI ki Paathshala\", end = ' ')\n",
    "print(\"learn python\", end = ' ')"
   ]
  },
  {
   "cell_type": "code",
   "execution_count": null,
   "id": "95a27af8",
   "metadata": {},
   "outputs": [],
   "source": [
    "\\n = new line"
   ]
  },
  {
   "cell_type": "code",
   "execution_count": 6,
   "id": "e6654bd0",
   "metadata": {},
   "outputs": [
    {
     "name": "stdout",
     "output_type": "stream",
     "text": [
      "Welcome toAI ki Paathshalalearn python"
     ]
    }
   ],
   "source": [
    "print(\"Welcome to\", end = '')\n",
    "print(\"AI ki Paathshala\", end = '')\n",
    "print(\"learn python\", end = '')"
   ]
  },
  {
   "cell_type": "code",
   "execution_count": 7,
   "id": "a4fc47c6",
   "metadata": {},
   "outputs": [
    {
     "name": "stdout",
     "output_type": "stream",
     "text": [
      "Welcome toAI ki Paathshala learn python"
     ]
    }
   ],
   "source": [
    "print(\"Welcome to\", end = '')\n",
    "print(\"AI ki Paathshala\", end = ' ')\n",
    "print(\"learn python\", end = '')"
   ]
  },
  {
   "cell_type": "code",
   "execution_count": 8,
   "id": "d4022c2b",
   "metadata": {},
   "outputs": [
    {
     "name": "stdout",
     "output_type": "stream",
     "text": [
      "python@AI Ki Paathshala\n"
     ]
    }
   ],
   "source": [
    "print(\"python\", end = '@')\n",
    "print(\"AI Ki Paathshala\")"
   ]
  },
  {
   "cell_type": "code",
   "execution_count": 9,
   "id": "ddefd6ac",
   "metadata": {},
   "outputs": [
    {
     "name": "stdout",
     "output_type": "stream",
     "text": [
      "G F H\n"
     ]
    }
   ],
   "source": [
    "print('G', 'F', 'H')"
   ]
  },
  {
   "cell_type": "code",
   "execution_count": 15,
   "id": "ffcc704a",
   "metadata": {},
   "outputs": [
    {
     "name": "stdout",
     "output_type": "stream",
     "text": [
      "GFH\n"
     ]
    }
   ],
   "source": [
    "print('G', 'F', 'H', sep = '')"
   ]
  },
  {
   "cell_type": "code",
   "execution_count": 17,
   "id": "15d6d4b9",
   "metadata": {},
   "outputs": [
    {
     "name": "stdout",
     "output_type": "stream",
     "text": [
      "GFH Anup jha\n"
     ]
    }
   ],
   "source": [
    "print('G', 'F', 'H', sep = '', end = ' ')\n",
    "print(\"Anup jha\")"
   ]
  },
  {
   "cell_type": "code",
   "execution_count": 18,
   "id": "a9f54f02",
   "metadata": {},
   "outputs": [
    {
     "name": "stdout",
     "output_type": "stream",
     "text": [
      "GFH\n",
      "Anup jha\n"
     ]
    }
   ],
   "source": [
    "print('G', 'F', 'H', sep = '', end = '\\n')\n",
    "print(\"Anup jha\")"
   ]
  },
  {
   "cell_type": "code",
   "execution_count": 20,
   "id": "f1ed10fa",
   "metadata": {},
   "outputs": [
    {
     "name": "stdout",
     "output_type": "stream",
     "text": [
      "21-08-2023\n"
     ]
    }
   ],
   "source": [
    "print('21', '08', '2023', sep = '-', end = '\\n')"
   ]
  },
  {
   "cell_type": "code",
   "execution_count": 21,
   "id": "1f1bed1c",
   "metadata": {},
   "outputs": [
    {
     "name": "stdout",
     "output_type": "stream",
     "text": [
      "Red , Green , Blue$Paathshala\n"
     ]
    }
   ],
   "source": [
    "print(\"Red\", 'Green', 'Blue', sep = ' , ', end = '$')\n",
    "print(\"Paathshala\")"
   ]
  },
  {
   "cell_type": "code",
   "execution_count": null,
   "id": "8f30e145",
   "metadata": {},
   "outputs": [],
   "source": [
    "# Carriage return  '\\r'"
   ]
  },
  {
   "cell_type": "code",
   "execution_count": null,
   "id": "b6db0cfd",
   "metadata": {},
   "outputs": [],
   "source": [
    "print(\"Welcome to\")\n",
    "print(\"AI ki Paathshala\")\n",
    "print(\"learn python\")"
   ]
  },
  {
   "cell_type": "code",
   "execution_count": 22,
   "id": "d9d5e159",
   "metadata": {},
   "outputs": [
    {
     "name": "stdout",
     "output_type": "stream",
     "text": [
      "AI ki Paathshala\r",
      "123456\n"
     ]
    }
   ],
   "source": [
    "print(\"AI ki Paathshala\\r123456\")"
   ]
  },
  {
   "cell_type": "code",
   "execution_count": 23,
   "id": "2f30b0d3",
   "metadata": {},
   "outputs": [
    {
     "name": "stdout",
     "output_type": "stream",
     "text": [
      "Hey there ii am busy learning carriage return in python\r",
      "this is going to be added\n"
     ]
    }
   ],
   "source": [
    "print(\"Hey there ii am busy learning carriage return in python\\rthis is going to be added\")"
   ]
  },
  {
   "cell_type": "code",
   "execution_count": 26,
   "id": "31b87564",
   "metadata": {},
   "outputs": [
    {
     "name": "stdout",
     "output_type": "stream",
     "text": [
      "1\n",
      "2\n",
      "3\n",
      "4\n",
      "5\n",
      "6\n"
     ]
    }
   ],
   "source": [
    "x = 1\n",
    "while x < 10:\n",
    "    \n",
    "    if x == 7:\n",
    "        break\n",
    "        \n",
    "    print(x)    \n",
    "    x = x + 1"
   ]
  },
  {
   "cell_type": "code",
   "execution_count": 30,
   "id": "de354cf9",
   "metadata": {},
   "outputs": [
    {
     "name": "stdout",
     "output_type": "stream",
     "text": [
      "0\n",
      "1\n",
      "2\n",
      "3\n",
      "4\n",
      "5\n",
      "6\n",
      "7\n",
      "8\n",
      "9\n"
     ]
    }
   ],
   "source": [
    "x = 0\n",
    "while x < 10:\n",
    "    print(x)\n",
    "    x = x + 1\n",
    "    if x == 7:\n",
    "        continue\n",
    "       "
   ]
  },
  {
   "cell_type": "code",
   "execution_count": 1,
   "id": "d06393b7",
   "metadata": {},
   "outputs": [
    {
     "data": {
      "text/plain": [
       "'x = 1\\nwhile x < 10:\\n    print(x)\\n    if x == 7:\\n        continue\\n    x = x + 1'"
      ]
     },
     "execution_count": 1,
     "metadata": {},
     "output_type": "execute_result"
    }
   ],
   "source": [
    "'''x = 1\n",
    "while x < 10:\n",
    "    print(x)\n",
    "    if x == 7:\n",
    "        continue\n",
    "    x = x + 1'''"
   ]
  },
  {
   "cell_type": "code",
   "execution_count": null,
   "id": "9bd4819b",
   "metadata": {},
   "outputs": [],
   "source": []
  },
  {
   "cell_type": "code",
   "execution_count": null,
   "id": "f177333e",
   "metadata": {},
   "outputs": [],
   "source": []
  },
  {
   "cell_type": "code",
   "execution_count": null,
   "id": "92954117",
   "metadata": {},
   "outputs": [],
   "source": []
  },
  {
   "cell_type": "code",
   "execution_count": null,
   "id": "0be4d91e",
   "metadata": {},
   "outputs": [],
   "source": []
  }
 ],
 "metadata": {
  "kernelspec": {
   "display_name": "Python 3 (ipykernel)",
   "language": "python",
   "name": "python3"
  },
  "language_info": {
   "codemirror_mode": {
    "name": "ipython",
    "version": 3
   },
   "file_extension": ".py",
   "mimetype": "text/x-python",
   "name": "python",
   "nbconvert_exporter": "python",
   "pygments_lexer": "ipython3",
   "version": "3.11.4"
  }
 },
 "nbformat": 4,
 "nbformat_minor": 5
}
